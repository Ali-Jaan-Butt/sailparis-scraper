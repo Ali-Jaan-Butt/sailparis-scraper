{
 "cells": [
  {
   "cell_type": "code",
   "execution_count": 9,
   "id": "41769ccb-61c6-4dbc-921c-9e2231662353",
   "metadata": {},
   "outputs": [],
   "source": [
    "import requests\n",
    "from scrapy import Selector\n",
    "import pandas as pd\n",
    "from tqdm import tqdm\n",
    "from selenium import webdriver"
   ]
  },
  {
   "cell_type": "code",
   "execution_count": 2,
   "id": "81832d35-2dcb-45fa-a72a-60ead5d1e064",
   "metadata": {},
   "outputs": [],
   "source": [
    "res = requests.get('https://www.sialparis.com/en/exhibitors-2024?catalog.prod.sial.exhibitors.en.name-asc%5Bpage%5D=2')"
   ]
  },
  {
   "cell_type": "code",
   "execution_count": 3,
   "id": "e9a3d2ef-e801-4698-8865-a06b1ae859cf",
   "metadata": {},
   "outputs": [],
   "source": [
    "sel = Selector(text = res.text)"
   ]
  },
  {
   "cell_type": "code",
   "execution_count": 6,
   "id": "a2229e16-ac3c-401f-805f-a13033195538",
   "metadata": {},
   "outputs": [],
   "source": [
    "sel.xpath('//div[@class=\"CatalogCard--title\"]/h3/div//span/text()').extract_first()"
   ]
  },
  {
   "cell_type": "code",
   "execution_count": 7,
   "id": "1feb1fb1-0223-4751-8aff-56003f7197c4",
   "metadata": {},
   "outputs": [
    {
     "data": {
      "text/plain": [
       "200"
      ]
     },
     "execution_count": 7,
     "metadata": {},
     "output_type": "execute_result"
    }
   ],
   "source": [
    "res.status_code"
   ]
  },
  {
   "cell_type": "code",
   "execution_count": 10,
   "id": "5c8ede35-3f4a-415c-a6e9-2fae3f5f34df",
   "metadata": {},
   "outputs": [],
   "source": [
    "driver = webdriver.Chrome()"
   ]
  },
  {
   "cell_type": "code",
   "execution_count": 25,
   "id": "7de4bfd6-b9b1-4ff1-9937-763ab485bc92",
   "metadata": {},
   "outputs": [],
   "source": [
    "driver.get('https://www.sialparis.com/en/exhibitors-2024?catalog.prod.sial.exhibitors.en.name-asc%5Bpage%5D=2')"
   ]
  },
  {
   "cell_type": "code",
   "execution_count": 26,
   "id": "fced4111-bdc7-4689-84af-e3f09a23a68c",
   "metadata": {},
   "outputs": [],
   "source": [
    "sel = Selector(text = driver.page_source)"
   ]
  },
  {
   "cell_type": "code",
   "execution_count": 27,
   "id": "586b1c9a-b3a2-442b-afb2-0f281e383a91",
   "metadata": {},
   "outputs": [],
   "source": [
    "data = {'Name': [], 'Item_url': [], 'Country': [], 'Address': [], 'Email_url': []}"
   ]
  },
  {
   "cell_type": "code",
   "execution_count": null,
   "id": "e4be12b7-a2c9-4f88-b7bf-c584314e8374",
   "metadata": {},
   "outputs": [],
   "source": [
    "for i in tqdm(sel.xpath('//div[@itemtypes=\"exhibitor\"]')):\n",
    "    links = ['https://www.sialparis.com'+l for l in sel.xpath('//a[@class=\"CatalogCard--link\"]/@href').extract()]\n",
    "    for url in links:\n",
    "        driver.get(url)\n",
    "        sel = Selector(text = driver.page_source)\n",
    "        data['Name'].append(sel.xpath('//div[@class=\"CatalogCard--title\"]/h3/div/span/span/text()').extract_first())\n",
    "        data['Item_url'].append(url)\n",
    "        data['Country'].append(sel.xpath('//p[@class=\"CatalogExhibitorStrip-address\"]//span[4]/text()').extract_first())\n",
    "        data['Address'].append({'Address1':sel.xpath('//p[@class=\"CatalogExhibitorStrip-address\"]/span/text()').extract_first(), 'Address2':sel.xpath('//p[@class=\"CatalogExhibitorStrip-address\"]/span[2]/text()').extract_first(), 'Address3':sel.xpath('//p[@class=\"CatalogExhibitorStrip-address\"]/span[3]/text()').extract_first()})\n",
    "        data['Email_url'].append(sel.xpath('//div[@class=\"CatalogExhibitorStrip-socialitem\"][3]/a/@href').extract_first())"
   ]
  },
  {
   "cell_type": "code",
   "execution_count": 34,
   "id": "bfdc9248-f477-494b-9835-8b4355a82d46",
   "metadata": {},
   "outputs": [
    {
     "data": {
      "text/plain": [
       "'Paw¿ówek 35'"
      ]
     },
     "execution_count": 34,
     "metadata": {},
     "output_type": "execute_result"
    }
   ],
   "source": [
    "sel.xpath('//p[@class=\"CatalogExhibitorStrip-address\"]/span/text()').extract_first()"
   ]
  },
  {
   "cell_type": "code",
   "execution_count": 36,
   "id": "de530878-34b0-4a89-8a24-5003aa190c6f",
   "metadata": {},
   "outputs": [
    {
     "data": {
      "text/plain": [
       "'Kalisz'"
      ]
     },
     "execution_count": 36,
     "metadata": {},
     "output_type": "execute_result"
    }
   ],
   "source": [
    "sel.xpath('//p[@class=\"CatalogExhibitorStrip-address\"]/span[2]/text()').extract_first()"
   ]
  },
  {
   "cell_type": "code",
   "execution_count": 37,
   "id": "9edec7b2-4ceb-4a02-ac49-5e08632c7636",
   "metadata": {},
   "outputs": [
    {
     "data": {
      "text/plain": [
       "'62-800 KALISZ'"
      ]
     },
     "execution_count": 37,
     "metadata": {},
     "output_type": "execute_result"
    }
   ],
   "source": [
    "sel.xpath('//p[@class=\"CatalogExhibitorStrip-address\"]/span[3]/text()').extract_first()"
   ]
  },
  {
   "cell_type": "code",
   "execution_count": 28,
   "id": "a46dd29d-ba80-4592-bee8-9e6640a74a4c",
   "metadata": {},
   "outputs": [],
   "source": [
    "links = ['https://www.sialparis.com'+l for l in sel.xpath('//a[@class=\"CatalogCard--link\"]/@href').extract()]"
   ]
  },
  {
   "cell_type": "code",
   "execution_count": 14,
   "id": "6119db4d-3460-4f1e-a59f-3c3a6bc434be",
   "metadata": {},
   "outputs": [
    {
     "data": {
      "text/plain": [
       "'AGRiCO DTL'"
      ]
     },
     "execution_count": 14,
     "metadata": {},
     "output_type": "execute_result"
    }
   ],
   "source": [
    "sel.xpath('//div[@class=\"CatalogCard--title\"]/h3/div/span/span/text()').extract_first()"
   ]
  },
  {
   "cell_type": "code",
   "execution_count": 31,
   "id": "1c7a1dfe-55ab-48a4-95bf-d93e6bcbe972",
   "metadata": {},
   "outputs": [],
   "source": [
    "link = 'https://www.sialparis.com'+sel.xpath('//a[@class=\"CatalogCard--link\"]/@href').extract_first()"
   ]
  },
  {
   "cell_type": "code",
   "execution_count": 32,
   "id": "94b93672-f961-4cd2-b379-fb2252b3f705",
   "metadata": {},
   "outputs": [],
   "source": [
    "driver.get(link)"
   ]
  },
  {
   "cell_type": "code",
   "execution_count": 33,
   "id": "13ae2de2-42a0-431e-b377-46695a05641d",
   "metadata": {},
   "outputs": [],
   "source": [
    "sel = Selector(text = driver.page_source)"
   ]
  },
  {
   "cell_type": "code",
   "execution_count": 23,
   "id": "84e3cb60-b03a-4dda-82c3-ad8a41e356bd",
   "metadata": {},
   "outputs": [
    {
     "data": {
      "text/plain": [
       "'POLAND'"
      ]
     },
     "execution_count": 23,
     "metadata": {},
     "output_type": "execute_result"
    }
   ],
   "source": [
    "sel.xpath('//p[@class=\"CatalogExhibitorStrip-address\"]//span[4]/text()').extract_first()"
   ]
  },
  {
   "cell_type": "code",
   "execution_count": 24,
   "id": "6dfc48e0-feed-46b6-b773-b6f0c17f1260",
   "metadata": {},
   "outputs": [
    {
     "data": {
      "text/plain": [
       "'https://agricodtl.pl/'"
      ]
     },
     "execution_count": 24,
     "metadata": {},
     "output_type": "execute_result"
    }
   ],
   "source": [
    "sel.xpath('//div[@class=\"CatalogExhibitorStrip-socialitem\"][3]/a/@href').extract_first()"
   ]
  }
 ],
 "metadata": {
  "kernelspec": {
   "display_name": "Python 3 (ipykernel)",
   "language": "python",
   "name": "python3"
  },
  "language_info": {
   "codemirror_mode": {
    "name": "ipython",
    "version": 3
   },
   "file_extension": ".py",
   "mimetype": "text/x-python",
   "name": "python",
   "nbconvert_exporter": "python",
   "pygments_lexer": "ipython3",
   "version": "3.11.3"
  }
 },
 "nbformat": 4,
 "nbformat_minor": 5
}
